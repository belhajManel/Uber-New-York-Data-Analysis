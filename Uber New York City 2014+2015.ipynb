{
 "cells": [
  {
   "cell_type": "code",
   "execution_count": null,
   "id": "37ffdc1f",
   "metadata": {},
   "outputs": [],
   "source": [
    "import pandas as pd\n",
    "import numpy as np\n",
    "import matplotlib.pyplot as plt\n",
    "import seaborn as sns\n",
    "import plotly.express as px"
   ]
  },
  {
   "cell_type": "code",
   "execution_count": null,
   "id": "8c496bec",
   "metadata": {},
   "outputs": [],
   "source": [
    "import os"
   ]
  },
  {
   "cell_type": "code",
   "execution_count": null,
   "id": "d6695ab3",
   "metadata": {},
   "outputs": [],
   "source": [
    "files= os.listdir(r'D:\\uber-pickups-in-new-york-city-20210602T094746Z-001\\uber-pickups-in-new-york-city')[-9:]\n",
    "files"
   ]
  },
  {
   "cell_type": "code",
   "execution_count": null,
   "id": "00303fb2",
   "metadata": {},
   "outputs": [],
   "source": [
    "files.remove('other-Prestige_B01338.csv')"
   ]
  },
  {
   "cell_type": "code",
   "execution_count": null,
   "id": "1486703a",
   "metadata": {},
   "outputs": [],
   "source": [
    "files.remove('other-Dial7_B00887.csv')"
   ]
  },
  {
   "cell_type": "code",
   "execution_count": null,
   "id": "056143d6",
   "metadata": {},
   "outputs": [],
   "source": [
    "files.remove('uber-raw-data-janjune-15.csv')"
   ]
  },
  {
   "cell_type": "code",
   "execution_count": null,
   "id": "05dbaba3",
   "metadata": {},
   "outputs": [],
   "source": [
    "files"
   ]
  },
  {
   "cell_type": "code",
   "execution_count": null,
   "id": "605c0534",
   "metadata": {},
   "outputs": [],
   "source": [
    "#put all the 6 datasets in one file\n",
    "path=r'D:\\uber-pickups-in-new-york-city-20210602T094746Z-001\\uber-pickups-in-new-york-city'\n",
    "final=pd.DataFrame()\n",
    "for file in files:\n",
    "    df=pd.read_csv(path+\"/\"+file,encoding='utf-8')\n",
    "    final=pd.concat([df,final])"
   ]
  },
  {
   "cell_type": "markdown",
   "id": "eb17787f",
   "metadata": {},
   "source": [
    "# Data From 2014 "
   ]
  },
  {
   "cell_type": "code",
   "execution_count": null,
   "id": "d1b091d2",
   "metadata": {},
   "outputs": [],
   "source": [
    "final.shape"
   ]
  },
  {
   "cell_type": "code",
   "execution_count": null,
   "id": "7fae56d5",
   "metadata": {},
   "outputs": [],
   "source": [
    "df=final.copy()\n",
    "df.head()"
   ]
  },
  {
   "cell_type": "code",
   "execution_count": null,
   "id": "6161b6fe",
   "metadata": {},
   "outputs": [],
   "source": [
    "df.dtypes"
   ]
  },
  {
   "cell_type": "code",
   "execution_count": null,
   "id": "99f70751",
   "metadata": {},
   "outputs": [],
   "source": [
    "df['Date/Time']=pd.to_datetime(df['Date/Time'],format='%m/%d/%Y %H:%M:%S')"
   ]
  },
  {
   "cell_type": "code",
   "execution_count": null,
   "id": "7db14509",
   "metadata": {},
   "outputs": [],
   "source": [
    "df.dtypes"
   ]
  },
  {
   "cell_type": "code",
   "execution_count": null,
   "id": "0df03235",
   "metadata": {},
   "outputs": [],
   "source": [
    "df.head()"
   ]
  },
  {
   "cell_type": "code",
   "execution_count": null,
   "id": "cdd3409e",
   "metadata": {},
   "outputs": [],
   "source": [
    "df['Weekday']=df['Date/Time'].dt.day_name()\n",
    "df['Day']=df['Date/Time'].dt.day\n",
    "df['Month']=df['Date/Time'].dt.month\n",
    "df['Minute']=df['Date/Time'].dt.minute\n",
    "df['Hour']=df['Date/Time'].dt.hour"
   ]
  },
  {
   "cell_type": "code",
   "execution_count": null,
   "id": "6bed250d",
   "metadata": {},
   "outputs": [],
   "source": [
    "df.head()"
   ]
  },
  {
   "cell_type": "markdown",
   "id": "33b0277d",
   "metadata": {},
   "source": [
    "## Analysis of trips by weekdays"
   ]
  },
  {
   "cell_type": "code",
   "execution_count": null,
   "id": "0c6ba9f5",
   "metadata": {},
   "outputs": [],
   "source": [
    "!pip install plotly\n",
    "import plotly.express as px"
   ]
  },
  {
   "cell_type": "code",
   "execution_count": null,
   "id": "64534563",
   "metadata": {},
   "outputs": [],
   "source": [
    "df['Weekday'].value_counts()"
   ]
  },
  {
   "cell_type": "code",
   "execution_count": null,
   "id": "71710ba1",
   "metadata": {},
   "outputs": [],
   "source": [
    "Title= 'Analysis of trips by weekdays'\n",
    "fig=px.bar(df,x=df['Weekday'].value_counts().index,\n",
    "       y=df['Weekday'].value_counts() ,\n",
    "       labels={'x': 'Days Of The Week', 'y':'Number Of Rides'},\n",
    "        title=Title,\n",
    "        color=[\"red\", \"goldenrod\", \"#00D\",\"green\",\"blue\",\"yellow\",\"brown\"],\n",
    "        height=600,\n",
    "      )\n",
    "fig.show()"
   ]
  },
  {
   "cell_type": "code",
   "execution_count": null,
   "id": "685687fd",
   "metadata": {},
   "outputs": [],
   "source": [
    "df[\"Hour\"].unique()"
   ]
  },
  {
   "cell_type": "code",
   "execution_count": null,
   "id": "46043f48",
   "metadata": {},
   "outputs": [],
   "source": [
    "df['Month'].unique()"
   ]
  },
  {
   "cell_type": "code",
   "execution_count": null,
   "id": "cf207e60",
   "metadata": {},
   "outputs": [],
   "source": [
    "df.dtypes"
   ]
  },
  {
   "cell_type": "markdown",
   "id": "a89cc7b7",
   "metadata": {},
   "source": [
    "# Analysis of trips per Hour for every month"
   ]
  },
  {
   "cell_type": "code",
   "execution_count": null,
   "id": "ed5e7fd4",
   "metadata": {},
   "outputs": [],
   "source": [
    "#analysis of trips for every hour for all months\n",
    "#plt.hist(df[\"Hour\"], label='Hour');\n",
    "#plt.title('Trips per hour');\n",
    "plt.figure(figsize=(20,10))\n",
    "ax=sns.countplot(df['Hour'])\n",
    "ax.set_title('Trips per Hour 2014', fontsize = 18)\n",
    "ax.set_ylabel('Number Of Rides', fontsize = 15)\n",
    "ax.set_xlabel ('Hour', fontsize = 15)"
   ]
  },
  {
   "cell_type": "markdown",
   "id": "fe672966",
   "metadata": {},
   "source": [
    "## Analysis of trips for every hour per month"
   ]
  },
  {
   "cell_type": "code",
   "execution_count": null,
   "id": "4e141844",
   "metadata": {},
   "outputs": [],
   "source": [
    "plt.figure(figsize=(20,15))\n",
    "for i,month in enumerate(df[\"Month\"].unique()):\n",
    "    plt.subplot(3,2,i+1)\n",
    "    x= df[df[\"Month\"]==month][\"Hour\"]\n",
    "    x.hist(\n",
    "            color ='pink'\n",
    "          \n",
    "           )\n",
    "    plt.xlabel('Hour H')\n",
    "    plt.ylabel('Number of Rides at Hour H')\n",
    "    plt.title('Number Of rides per hour for the month : '+str(month),\n",
    "          fontweight =\"bold\")\n",
    "\n"
   ]
  },
  {
   "cell_type": "markdown",
   "id": "daed1947",
   "metadata": {},
   "source": [
    "## Which month has the most trips?"
   ]
  },
  {
   "cell_type": "code",
   "execution_count": null,
   "id": "baa8ab07",
   "metadata": {},
   "outputs": [],
   "source": [
    "df.head()"
   ]
  },
  {
   "cell_type": "code",
   "execution_count": null,
   "id": "bac98b1a",
   "metadata": {},
   "outputs": [],
   "source": [
    "!pip install chart_studio\n",
    "import chart_studio.plotly as py\n",
    "import plotly.graph_objs as go\n",
    "from plotly.offline import download_plotlyjs, init_notebook_mode, plot, iplot"
   ]
  },
  {
   "cell_type": "code",
   "execution_count": null,
   "id": "18c4c601",
   "metadata": {},
   "outputs": [],
   "source": [
    "df.groupby('Month')['Hour'].count()"
   ]
  },
  {
   "cell_type": "code",
   "execution_count": null,
   "id": "d90023c1",
   "metadata": {},
   "outputs": [],
   "source": [
    "    trace1=go.Bar(\n",
    "          x=df.groupby('Month')['Hour'].count().index,\n",
    "          y=df.groupby('Month')['Hour'].count(),\n",
    "          marker_color=[px.colors.qualitative.Dark24[i+1],px.colors.qualitative.Dark24[i+2],px.colors.qualitative.Dark24[i+3],px.colors.qualitative.Dark24[i+4],px.colors.qualitative.Dark24[i+5],px.colors.qualitative.Dark24[i+6]],\n",
    "        text='Total trips per month'\n",
    "    )\n",
    "    iplot([trace1])\n",
    "\n",
    "\n",
    "      \n"
   ]
  },
  {
   "cell_type": "markdown",
   "id": "55183ec9",
   "metadata": {},
   "source": [
    "## Which day of the month has the most trips?"
   ]
  },
  {
   "cell_type": "code",
   "execution_count": null,
   "id": "5175ac07",
   "metadata": {
    "scrolled": true
   },
   "outputs": [],
   "source": [
    "plt.figure(figsize=(20,10));\n",
    "plt.hist(df[\"Day\"],bins=30, rwidth=0.8,range=(0,30.5));\n",
    "plt.xlabel('Day Of The Month')\n",
    "plt.ylabel('Trips Per Day')\n",
    "plt.title('Total Trips By The Month Day');"
   ]
  },
  {
   "cell_type": "markdown",
   "id": "9f0aa14c",
   "metadata": {},
   "source": [
    "## Analysis of total rides month wise\n"
   ]
  },
  {
   "cell_type": "code",
   "execution_count": null,
   "id": "d73dcb19",
   "metadata": {},
   "outputs": [],
   "source": [
    "plt.figure(figsize=(20,15))\n",
    "for i,month in enumerate (df['Month'].unique(),1):\n",
    "    plt.subplot(3,2,i)\n",
    "    df_new=df[df[\"Month\"]==month]\n",
    "    plt.hist(df_new['Day'],  color ='skyblue')\n",
    "    plt.xlabel('Days in month: {}'.format(month))\n",
    "    plt.ylabel('Total Trips')\n",
    "    plt.title('Total rides for month {} /day of the month'.format(month))"
   ]
  },
  {
   "cell_type": "markdown",
   "id": "dd7963e3",
   "metadata": {},
   "source": [
    "## Analysis of Rush for each hour"
   ]
  },
  {
   "cell_type": "code",
   "execution_count": null,
   "id": "e00ab79e",
   "metadata": {},
   "outputs": [],
   "source": [
    "plt.figure(figsize=(20,15))\n",
    "ax=sns.pointplot(x='Hour', y='Lat', data=df, hue='Weekday')\n",
    "ax.set_title(\"HoursofDay of  VS LatitudeofPassengers\")"
   ]
  },
  {
   "cell_type": "markdown",
   "id": "821208ce",
   "metadata": {},
   "source": [
    "## Analyzing which base number gets popular by month name"
   ]
  },
  {
   "cell_type": "code",
   "execution_count": null,
   "id": "3b7b33ac",
   "metadata": {},
   "outputs": [],
   "source": [
    "df.head()"
   ]
  },
  {
   "cell_type": "code",
   "execution_count": null,
   "id": "77316c98",
   "metadata": {},
   "outputs": [],
   "source": [
    "base=df.groupby([\"Base\",\"Month\"])['Date/Time'].count().reset_index()\n",
    "base"
   ]
  },
  {
   "cell_type": "code",
   "execution_count": null,
   "id": "d016ffae",
   "metadata": {},
   "outputs": [],
   "source": [
    "plt.figure(figsize=(20,15));\n",
    "#sns.lineplot(x='Month',y='Date/Time', hue='Base', data=base);\n",
    "px.line(base, x=\"Month\", y=\"Date/Time\", title='Evolution of base numbers by month', color='Base')\n"
   ]
  },
  {
   "cell_type": "markdown",
   "id": "3a44ab99",
   "metadata": {},
   "source": [
    "## Cross Analysis with Heatmaps"
   ]
  },
  {
   "cell_type": "code",
   "execution_count": null,
   "id": "b7bf45c8",
   "metadata": {},
   "outputs": [],
   "source": [
    "def count_rows(rows):\n",
    "    return len(rows)"
   ]
  },
  {
   "cell_type": "markdown",
   "id": "e1c46142",
   "metadata": {},
   "source": [
    "### Heatmap by Hour and Weekday"
   ]
  },
  {
   "cell_type": "code",
   "execution_count": null,
   "id": "e1b99ad4",
   "metadata": {},
   "outputs": [],
   "source": [
    "by_cross=df.groupby(['Weekday','Hour']).apply(count_rows)\n",
    "by_cross.head()"
   ]
  },
  {
   "cell_type": "code",
   "execution_count": null,
   "id": "90cd378c",
   "metadata": {},
   "outputs": [],
   "source": [
    "pivot=by_cross.unstack()\n",
    "pivot.head()"
   ]
  },
  {
   "cell_type": "code",
   "execution_count": null,
   "id": "1d0ef213",
   "metadata": {},
   "outputs": [],
   "source": [
    "plt.figure(figsize=(20,15));\n",
    "px.imshow(pivot,\n",
    "          labels=dict(color=\"Number Of Trips\"),\n",
    "          title=' Heatmap by Hour and Weekday'\n",
    "         )\n"
   ]
  },
  {
   "cell_type": "markdown",
   "id": "c2f91eb7",
   "metadata": {},
   "source": [
    "### Automation of Heatmaps"
   ]
  },
  {
   "cell_type": "code",
   "execution_count": null,
   "id": "980a553a",
   "metadata": {},
   "outputs": [],
   "source": [
    "def heatmap(col1,col2):\n",
    "    by_cross=df.groupby([col1,col2]).apply(count_rows)\n",
    "    pivot=by_cross.unstack()\n",
    "    plt.figure(figsize=(20,15));\n",
    "    return px.imshow(pivot,\n",
    "          labels=dict(color=\"Number Of Trips\"),\n",
    "          title=' Heatmap by {} and {}'.format(col1,col2)\n",
    "         )\n"
   ]
  },
  {
   "cell_type": "code",
   "execution_count": null,
   "id": "7d16315b",
   "metadata": {},
   "outputs": [],
   "source": [
    "heatmap('Month','Hour')"
   ]
  },
  {
   "cell_type": "code",
   "execution_count": null,
   "id": "9111afce",
   "metadata": {},
   "outputs": [],
   "source": [
    "heatmap('Month','Weekday')"
   ]
  },
  {
   "cell_type": "markdown",
   "id": "9aa425e7",
   "metadata": {},
   "source": [
    "## Analysis of location data points"
   ]
  },
  {
   "cell_type": "code",
   "execution_count": null,
   "id": "4489a6f0",
   "metadata": {},
   "outputs": [],
   "source": [
    "df.head()"
   ]
  },
  {
   "cell_type": "code",
   "execution_count": null,
   "id": "792772a7",
   "metadata": {},
   "outputs": [],
   "source": [
    "plt.plot(df['Lon'],df['Lat'],'r+')"
   ]
  },
  {
   "cell_type": "code",
   "execution_count": null,
   "id": "5d8da7ce",
   "metadata": {},
   "outputs": [],
   "source": [
    "fig = px.line(df, x=\"Lat\", y=\"Lon\")\n",
    "fig.show()"
   ]
  },
  {
   "cell_type": "code",
   "execution_count": null,
   "id": "b95ce907",
   "metadata": {},
   "outputs": [],
   "source": [
    "df.head()"
   ]
  },
  {
   "cell_type": "markdown",
   "id": "3895370c",
   "metadata": {},
   "source": [
    "## Spatial analysis using heatmap to get a clear cut of Rush"
   ]
  },
  {
   "cell_type": "code",
   "execution_count": null,
   "id": "119ad56f",
   "metadata": {},
   "outputs": [],
   "source": [
    "sun=df[df['Weekday']=='Sunday' ]\n",
    "sun.head()"
   ]
  },
  {
   "cell_type": "code",
   "execution_count": null,
   "id": "019c3026",
   "metadata": {},
   "outputs": [],
   "source": [
    "rush_sun=sun.groupby(['Lat','Lon'])['Weekday'].count().reset_index()\n",
    "rush_sun.columns=[\"Lat\",'Lon','No of trips']\n",
    "rush_sun.head()"
   ]
  },
  {
   "cell_type": "code",
   "execution_count": null,
   "id": "a6cbbf01",
   "metadata": {},
   "outputs": [],
   "source": [
    "!pip install folium"
   ]
  },
  {
   "cell_type": "code",
   "execution_count": null,
   "id": "0164128a",
   "metadata": {},
   "outputs": [],
   "source": [
    "from folium.plugins import HeatMap"
   ]
  },
  {
   "cell_type": "code",
   "execution_count": null,
   "id": "572c2463",
   "metadata": {},
   "outputs": [],
   "source": [
    "import folium"
   ]
  },
  {
   "cell_type": "code",
   "execution_count": null,
   "id": "fb5c4084",
   "metadata": {},
   "outputs": [],
   "source": [
    "basemap=folium.Map()\n",
    "HeatMap(rush_sun,zoom=20, radius=30).add_to(basemap)\n",
    "basemap"
   ]
  },
  {
   "cell_type": "markdown",
   "id": "b481ed61",
   "metadata": {},
   "source": [
    "## Automating the analysis"
   ]
  },
  {
   "cell_type": "code",
   "execution_count": null,
   "id": "f8d04519",
   "metadata": {},
   "outputs": [],
   "source": [
    "def plot(df,day):\n",
    "    basemap=folium.Map()\n",
    "    x=df[df['Weekday']==day ]\n",
    "    HeatMap(x.groupby(['Lat','Lon'])['Weekday'].count().reset_index(), zoom=30,radius=30).add_to(basemap)\n",
    "    return basemap"
   ]
  },
  {
   "cell_type": "markdown",
   "id": "5bd779f1",
   "metadata": {},
   "source": [
    "# Data analysis for 2015( Jan-July)"
   ]
  },
  {
   "cell_type": "code",
   "execution_count": null,
   "id": "337dbe74",
   "metadata": {},
   "outputs": [],
   "source": [
    "df_uber = pd.read_csv('D:\\/uber_nyc_data.csv')\n",
    "df_uber.head()"
   ]
  },
  {
   "cell_type": "code",
   "execution_count": null,
   "id": "53185c75",
   "metadata": {},
   "outputs": [],
   "source": [
    "df_uber.info()\n",
    "#1.4 GB + 31 million entries"
   ]
  },
  {
   "cell_type": "markdown",
   "id": "03da224f",
   "metadata": {},
   "source": [
    "## Check for missing or possibly erroneous data"
   ]
  },
  {
   "cell_type": "code",
   "execution_count": null,
   "id": "e9cb9192",
   "metadata": {},
   "outputs": [],
   "source": [
    "len(df_uber[df_uber.duplicated() == True])\n",
    "# ==> No duplicated rows"
   ]
  },
  {
   "cell_type": "code",
   "execution_count": null,
   "id": "50e83495",
   "metadata": {},
   "outputs": [],
   "source": [
    "df_uber.isnull().any()\n",
    "# ==> destination_taz+trip_distance+trip_duration have null values\n",
    "df_uber.isnull().sum()\n"
   ]
  },
  {
   "cell_type": "code",
   "execution_count": null,
   "id": "8a78904d",
   "metadata": {},
   "outputs": [],
   "source": [
    "origin=df_uber[\"origin_taz\"].unique()\n",
    "print(len(origin)) ## we have 28 unique origin codes\n",
    "origin"
   ]
  },
  {
   "cell_type": "code",
   "execution_count": null,
   "id": "4ac4404b",
   "metadata": {},
   "outputs": [],
   "source": [
    "dest=df_uber[\"destination_taz\"].unique()\n",
    "print(len(dest))\n",
    "dest\n",
    "## we have 30 destination"
   ]
  },
  {
   "cell_type": "code",
   "execution_count": null,
   "id": "2c69ec1a",
   "metadata": {},
   "outputs": [],
   "source": [
    "set(dest) - set(origin) ## we have 2 diff 18 and a null value"
   ]
  },
  {
   "cell_type": "code",
   "execution_count": null,
   "id": "452b2f23",
   "metadata": {},
   "outputs": [],
   "source": [
    "#Check data with null destinations\n",
    "df_uber[df_uber[\"destination_taz\"].isnull()].head()\n",
    "#==>Solution: predict dest based on other features"
   ]
  },
  {
   "cell_type": "code",
   "execution_count": null,
   "id": "3a35a434",
   "metadata": {},
   "outputs": [],
   "source": [
    "#Check data with null trip_distance && trip_duration\n",
    "df38=df_uber[df_uber[\"trip_distance\"].isnull() & df_uber[\"trip_duration\"].isnull()]\n",
    "df38.head()\n",
    "#Nor data is missing the destination"
   ]
  },
  {
   "cell_type": "code",
   "execution_count": null,
   "id": "66114818",
   "metadata": {},
   "outputs": [],
   "source": [
    "len(df_uber[(df_uber[\"trip_distance\"].isnull()== False) & (df_uber[\"trip_duration\"].isnull()== True)])\n",
    "#All cases corresponding to missing values in trip_distance correspond to trip_duration"
   ]
  },
  {
   "cell_type": "code",
   "execution_count": null,
   "id": "58847dbf",
   "metadata": {},
   "outputs": [],
   "source": [
    "df_uber.info()\n",
    "#==> pickup_datetime type is an object"
   ]
  },
  {
   "cell_type": "markdown",
   "id": "b41686a6",
   "metadata": {},
   "source": [
    "## Parse the pickup_datetime column to datetime type"
   ]
  },
  {
   "cell_type": "code",
   "execution_count": null,
   "id": "8971d455",
   "metadata": {},
   "outputs": [],
   "source": [
    "len(df_uber[df_uber[\"pickup_datetime\"].apply(lambda x: x[-5:] =='00:00')== False])\n",
    "#None of the pickup_datetime offer minutes or seconds precision"
   ]
  },
  {
   "cell_type": "code",
   "execution_count": null,
   "id": "167e43ca",
   "metadata": {},
   "outputs": [],
   "source": [
    "def dateparser(s):\n",
    "    return datetime.datetime(int(s[0:4]), int(s[5:7]), int(s[8:10]), int(s[11:13]))"
   ]
  },
  {
   "cell_type": "code",
   "execution_count": null,
   "id": "3fcc79db",
   "metadata": {},
   "outputs": [],
   "source": [
    "## Apply parser\n",
    "import datetime\n",
    "df_uber['y_d_h']=df_uber[\"pickup_datetime\"].apply(dateparser)"
   ]
  },
  {
   "cell_type": "code",
   "execution_count": null,
   "id": "6a00b09d",
   "metadata": {},
   "outputs": [],
   "source": [
    "beginning_date=df_uber[\"y_d_h\"].min()\n",
    "ending_date=df_uber[\"y_d_h\"].max()\n",
    "print (beginning_date, ending_date, ending_date-beginning_date)\n",
    "##==> data from 1 september 2014 to 1 september 2015"
   ]
  },
  {
   "cell_type": "code",
   "execution_count": null,
   "id": "d09eda6a",
   "metadata": {},
   "outputs": [],
   "source": [
    "df_uber.head()"
   ]
  },
  {
   "cell_type": "code",
   "execution_count": null,
   "id": "115bded7",
   "metadata": {},
   "outputs": [],
   "source": [
    "df_uber.drop(columns='pickup_datetime',inplace=True)"
   ]
  },
  {
   "cell_type": "code",
   "execution_count": null,
   "id": "61d6233b",
   "metadata": {},
   "outputs": [],
   "source": [
    "df_uber.head()"
   ]
  },
  {
   "cell_type": "markdown",
   "id": "8090642b",
   "metadata": {},
   "source": [
    "## Get the federal holidays for the period (useful for analyzing data later)"
   ]
  },
  {
   "cell_type": "code",
   "execution_count": null,
   "id": "cf92e8f8",
   "metadata": {},
   "outputs": [],
   "source": [
    "from pandas.tseries.holiday import USFederalHolidayCalendar\n",
    "holidays=USFederalHolidayCalendar().holidays(beginning_date,ending_date, return_name=True)\n",
    "holidays"
   ]
  },
  {
   "cell_type": "code",
   "execution_count": null,
   "id": "53356c1a",
   "metadata": {},
   "outputs": [],
   "source": [
    "#Extract the weekday for each holiday\n",
    "##The strftime() method returns a string representing date and time using date, time or datetime object.\n",
    "holidays.index.map(lambda x: x.strftime('%a'))\n"
   ]
  },
  {
   "cell_type": "code",
   "execution_count": null,
   "id": "d84f57d9",
   "metadata": {},
   "outputs": [],
   "source": []
  }
 ],
 "metadata": {
  "kernelspec": {
   "display_name": "Python 3",
   "language": "python",
   "name": "python3"
  },
  "language_info": {
   "codemirror_mode": {
    "name": "ipython",
    "version": 3
   },
   "file_extension": ".py",
   "mimetype": "text/x-python",
   "name": "python",
   "nbconvert_exporter": "python",
   "pygments_lexer": "ipython3",
   "version": "3.8.8"
  }
 },
 "nbformat": 4,
 "nbformat_minor": 5
}
